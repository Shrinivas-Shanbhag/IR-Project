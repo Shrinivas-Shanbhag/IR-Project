{
 "cells": [
  {
   "cell_type": "code",
   "execution_count": 1,
   "metadata": {},
   "outputs": [],
   "source": [
    "from nltk.stem import PorterStemmer, WordNetLemmatizer\n",
    "from nltk.tokenize import sent_tokenize, word_tokenize\n",
    "from __future__ import print_function\n",
    "import torch\n",
    "from torch.autograd import Variable\n",
    "import random\n",
    "from sklearn.model_selection import train_test_split"
   ]
  },
  {
   "cell_type": "code",
   "execution_count": 2,
   "metadata": {},
   "outputs": [
    {
     "name": "stderr",
     "output_type": "stream",
     "text": [
      "Using TensorFlow backend.\n"
     ]
    }
   ],
   "source": [
    "from keras import backend as K\n",
    "from keras.layers import Embedding,Dense\n",
    "from keras.layers import LSTM, Input, merge, Lambda\n",
    "from keras.layers.wrappers import Bidirectional\n",
    "from keras.layers.convolutional import Convolution1D\n",
    "from keras.models import Model\n",
    "import numpy as np"
   ]
  },
  {
   "cell_type": "code",
   "execution_count": 3,
   "metadata": {},
   "outputs": [],
   "source": [
    "file = \"glove.6B.100d.txt\"\n",
    "import numpy as np\n",
    "def loadGloveModel(gloveFile):\n",
    "    print (\"Loading Glove Model\")\n",
    "    \n",
    "    with open(gloveFile, encoding=\"utf8\" ) as f:\n",
    "       content = f.readlines()\n",
    "    model = {}\n",
    "    for line in content:\n",
    "        splitLine = line.split()\n",
    "        word = splitLine[0]\n",
    "        embedding = np.array([float(val) for val in splitLine[1:]])\n",
    "        model[word] = embedding\n",
    "    print (\"Done.\",len(model),\" words loaded!\")\n",
    "    return model\n"
   ]
  },
  {
   "cell_type": "code",
   "execution_count": 4,
   "metadata": {},
   "outputs": [
    {
     "name": "stdout",
     "output_type": "stream",
     "text": [
      "Loading Glove Model\n",
      "Done. 400001  words loaded!\n"
     ]
    }
   ],
   "source": [
    "model= loadGloveModel(file)   \n",
    "stemmer = PorterStemmer()\n",
    "lemmatiser= WordNetLemmatizer()\n"
   ]
  },
  {
   "cell_type": "code",
   "execution_count": 5,
   "metadata": {},
   "outputs": [],
   "source": [
    "import string\n",
    "questions=[]\n",
    "answers=[]\n",
    "answer=[]\n",
    "length=30\n",
    "sentence_length=length\n",
    "with open(\"sample1.txt\",\"r\") as f:\n",
    "    choice=0\n",
    "    for line in f:\n",
    "        line=line.lower()\n",
    "        sentence=line.translate(string.punctuation)\n",
    "        sentence=line[2:].split()\n",
    "        word_vec=[]\n",
    "        for word in sentence:\n",
    "            if word in model:\n",
    "                word_vec.append(model[word])\n",
    "            else:\n",
    "                stemmed_word=stemmer.stem(word)\n",
    "                lemmatised_word=lemmatiser.lemmatize(word)\n",
    "                if stemmed_word in model:\n",
    "                    word_vec.append(model[stemmed_word])\n",
    "                elif lemmatised_word in model:\n",
    "                    word_vec.append(model[lemmatised_word])        \n",
    "        if choice==0:\n",
    "            choice=1\n",
    "            if len(word_vec)<=sentence_length:\n",
    "                for vec_len in range(length-len(word_vec)):\n",
    "                    word_vec.append(model[\"0\"])\n",
    "            questions.append(word_vec[:length])\n",
    "            \n",
    "        else:\n",
    "            choice=0\n",
    "            if len(word_vec)<=sentence_length:\n",
    "                for vec_len in range(length-len(word_vec)):\n",
    "                    word_vec.append(model[\"0\"])\n",
    "                answers.append(word_vec)\n",
    "                answer.append(line)\n",
    "            else:\n",
    "                del questions[-1]\n",
    "                \n",
    "        "
   ]
  },
  {
   "cell_type": "code",
   "execution_count": 6,
   "metadata": {},
   "outputs": [],
   "source": [
    "input_vec_len=100\n",
    "questions=np.asarray(questions)\n",
    "answers=np.asarray(answers)"
   ]
  },
  {
   "cell_type": "code",
   "execution_count": 7,
   "metadata": {},
   "outputs": [],
   "source": [
    "from sklearn.utils import shuffle"
   ]
  },
  {
   "cell_type": "code",
   "execution_count": 8,
   "metadata": {},
   "outputs": [],
   "source": [
    "questions,answers=shuffle(questions,answers)"
   ]
  },
  {
   "cell_type": "code",
   "execution_count": 9,
   "metadata": {},
   "outputs": [],
   "source": [
    "# questions=questions[1000:2000]\n",
    "# answers=answers[1000:2000]"
   ]
  },
  {
   "cell_type": "code",
   "execution_count": 10,
   "metadata": {},
   "outputs": [],
   "source": [
    "X_train, X_test, y_train, y_test = train_test_split(questions, answers, test_size=0.05, random_state=42)"
   ]
  },
  {
   "cell_type": "code",
   "execution_count": 11,
   "metadata": {},
   "outputs": [],
   "source": [
    "bad_y_train=np.concatenate((y_test,y_train),axis=0)\n",
    "bad_y_train=bad_y_train[:len(y_train)]"
   ]
  },
  {
   "cell_type": "code",
   "execution_count": 12,
   "metadata": {},
   "outputs": [
    {
     "data": {
      "text/plain": [
       "((906, 30, 100), (48, 30, 100))"
      ]
     },
     "execution_count": 12,
     "metadata": {},
     "output_type": "execute_result"
    }
   ],
   "source": [
    "bad_y_train.shape,y_test.shape"
   ]
  },
  {
   "cell_type": "code",
   "execution_count": 13,
   "metadata": {},
   "outputs": [],
   "source": [
    "import keras\n",
    "# from keras_self_attention import SeqSelfAttention"
   ]
  },
  {
   "cell_type": "code",
   "execution_count": 14,
   "metadata": {},
   "outputs": [],
   "source": [
    "questions, good_answers, bad_answers=X_train,y_train,bad_y_train\n",
    "Y = np.zeros(shape=(questions.shape[0],))"
   ]
  },
  {
   "cell_type": "code",
   "execution_count": 15,
   "metadata": {},
   "outputs": [
    {
     "data": {
      "text/plain": [
       "(906, 30, 100)"
      ]
     },
     "execution_count": 15,
     "metadata": {},
     "output_type": "execute_result"
    }
   ],
   "source": [
    "bad_answers.shape"
   ]
  },
  {
   "cell_type": "code",
   "execution_count": 16,
   "metadata": {},
   "outputs": [],
   "source": [
    "def cosine_distance(vests):\n",
    "    x, y = vests\n",
    "    x = K.l2_normalize(x, axis=-1)\n",
    "    y = K.l2_normalize(y, axis=-1)\n",
    "    return -K.mean(x * y, axis=-1, keepdims=True)\n",
    "\n",
    "def cos_dist_output_shape(shapes):\n",
    "    shape1, shape2 = shapes\n",
    "    return (shape1[0],1)\n",
    "\n",
    "def loss_shape(shapes):\n",
    "    shape1, shape2 = shapes\n",
    "    return  0"
   ]
  },
  {
   "cell_type": "code",
   "execution_count": 17,
   "metadata": {},
   "outputs": [
    {
     "name": "stdout",
     "output_type": "stream",
     "text": [
      "hi\n"
     ]
    }
   ],
   "source": [
    "import tensorflow as tf\n",
    "from keras import backend as k\n",
    "from keras.layers import Embedding,Dense,Flatten,Activation,RepeatVector,Permute,Multiply,Add\n",
    "import keras\n",
    "# from keras_self_attention import SeqSelfAttention\n",
    "\n",
    "margin = 0.2\n",
    "enc_timesteps = 60\n",
    "dec_timesteps = 60\n",
    "hidden_dim = 15\n",
    "epoch=100\n",
    "maxlen=60\n",
    "# initialize the question and answer shapes and datatype\n",
    "#                                       \n",
    "question = Input(shape=(length,100))\n",
    "answer = Input(shape=(length,100))\n",
    "#                                                         \n",
    "answer_good = Input(shape=(length,100))\n",
    "answer_bad = Input(shape=(length,100))\n",
    "\n",
    "\n",
    "# first hop\n",
    "q1_bilstm = Bidirectional(LSTM(activation='tanh', units=hidden_dim, return_sequences=True))(question)\n",
    "q1_atten = Dense(1, activation='tanh')(q1_bilstm)\n",
    "q1_atten = Flatten()(q1_atten)\n",
    "q1_atten = Activation('softmax')(q1_atten)\n",
    "q1_atten = RepeatVector(length)(q1_atten)\n",
    "q1_atten = Permute([2, 1])(q1_atten)\n",
    "q1_sent_representation = Lambda(lambda xin: K.sum(xin[0]*xin[1], axis=-2), output_shape=(length,))([q1_bilstm, q1_atten])\n",
    "\n",
    "a1_bilstm = Bidirectional(LSTM(activation='tanh', units=hidden_dim, return_sequences=True))(answer)\n",
    "a1_atten = Dense(1, activation='tanh')(Add()([a1_bilstm,q1_bilstm]))\n",
    "a1_atten = Flatten()(a1_atten)\n",
    "a1_atten = Activation('softmax')(a1_atten)\n",
    "a1_atten = RepeatVector(length)(a1_atten)\n",
    "a1_atten = Permute([2, 1])(a1_atten)\n",
    "a1_sent_representation = Lambda(lambda xin: K.sum(xin[0]*xin[1], axis=-2), output_shape=(length,))([a1_bilstm, a1_atten])\n",
    "\n",
    "question_enc_1 = q1_sent_representation\n",
    "answer_enc_1 = a1_sent_representation\n",
    "distance1 = Lambda(cosine_distance, output_shape=cos_dist_output_shape)([question_enc_1, answer_enc_1])\n",
    "\n",
    "# second hop\n",
    "q2_bilstm=Bidirectional(LSTM(activation='tanh', units=hidden_dim, return_sequences=True))(question)\n",
    "q2_atten=attention = Dense(1, activation='tanh')(Multiply()([q2_bilstm,q1_bilstm]))\n",
    "q2_atten = Flatten()(q2_atten)\n",
    "q2_atten = Activation('softmax')(q2_atten)\n",
    "q2_atten = RepeatVector(length)(q2_atten)\n",
    "q2_atten = Permute([2, 1])(q2_atten)\n",
    "q2_sent_representation = Lambda(lambda xin: K.sum(xin[0]*xin[1], axis=-2), output_shape=(length,))([q2_bilstm, q2_atten])\n",
    "\n",
    "a2_bilstm=Bidirectional(LSTM(activation='tanh', units=hidden_dim, return_sequences=True))(answer)\n",
    "a2_atten=attention = Dense(1, activation='tanh')(Multiply()([a1_bilstm,Add()([a2_bilstm,q2_bilstm])]))\n",
    "a2_atten = Flatten()(a2_atten)\n",
    "a2_atten = Activation('softmax')(a2_atten)\n",
    "a2_atten = RepeatVector(length)(a2_atten)\n",
    "a2_atten = Permute([2, 1])(a2_atten)\n",
    "a2_sent_representation = Lambda(lambda xin: K.sum(xin[0]*xin[1], axis=-2), output_shape=(length,))([a2_bilstm, a2_atten])\n",
    "\n",
    "question_enc_2 = q2_sent_representation\n",
    "answer_enc_2 = a2_sent_representation\n",
    "distance2 = Lambda(cosine_distance, output_shape=cos_dist_output_shape)([question_enc_2, answer_enc_2])\n",
    "\n",
    "# third hop\n",
    "q3_bilstm=Bidirectional(LSTM(activation='tanh', units=hidden_dim, return_sequences=True))(question)\n",
    "q3_atten=attention = Dense(1, activation='tanh')(Multiply()([q3_bilstm,q2_bilstm]))\n",
    "q3_atten = Flatten()(q3_atten)\n",
    "q3_atten = Activation('softmax')(q3_atten)\n",
    "q3_atten = RepeatVector(length)(q3_atten)\n",
    "q3_atten = Permute([2, 1])(q3_atten)\n",
    "q3_sent_representation = Lambda(lambda xin: K.sum(xin[0]*xin[1], axis=-2), output_shape=(length,))([q3_bilstm, q3_atten])\n",
    "\n",
    "a3_bilstm=Bidirectional(LSTM(activation='tanh', units=hidden_dim, return_sequences=True))(answer)\n",
    "a3_atten=attention = Dense(1, activation='tanh')(Multiply()([a1_bilstm,Add()([a3_bilstm,q3_bilstm])]))\n",
    "a3_atten = Flatten()(a3_atten)\n",
    "a3_atten = Activation('softmax')(a3_atten)\n",
    "a3_atten = RepeatVector(length)(a3_atten)\n",
    "a3_atten = Permute([2, 1])(a3_atten)\n",
    "a3_sent_representation = Lambda(lambda xin: K.sum(xin[0]*xin[1], axis=-2), output_shape=(length,))([a3_bilstm, a3_atten])\n",
    "\n",
    "question_enc_3 = q3_sent_representation\n",
    "answer_enc_3 = a3_sent_representation\n",
    "distance3 = Lambda(cosine_distance, output_shape=cos_dist_output_shape)([question_enc_3, answer_enc_3])\n",
    "\n",
    "\n",
    "distance=Lambda(lambda x: x[0] + x[1] + x[2],output_shape=lambda x: x[0])([distance1,distance2,distance3])\n",
    "\n",
    "lstm_model = Model(inputs=[question, answer], outputs=[distance])\n",
    "good_similarity = lstm_model([question, answer_good])\n",
    "\n",
    "bad_similarity = lstm_model([question, answer_bad])\n",
    "\n",
    "loss=Lambda(lambda x: K.relu(margin - x[0] + x[1]),output_shape=lambda x: x[0])([good_similarity, bad_similarity])\n",
    "\n",
    "\n",
    "# return training and prediction model\n",
    "training_model = Model(inputs=[question, answer_good, answer_bad], outputs=loss, name='training_model')\n",
    "training_model.compile(loss=lambda y_true, y_pred: y_pred, optimizer=\"rmsprop\")\n",
    "prediction_model = Model(inputs=[question, answer_good], outputs=good_similarity, name='prediction_model')\n",
    "prediction_model.compile(loss=lambda y_true, y_pred: y_pred, optimizer=\"rmsprop\")\n",
    "\n",
    " "
   ]
  },
  {
   "cell_type": "code",
   "execution_count": 42,
   "metadata": {},
   "outputs": [
    {
     "name": "stdout",
     "output_type": "stream",
     "text": [
      "0\n",
      "Train on 860 samples, validate on 46 samples\n",
      "Epoch 1/1\n",
      "120/860 [===>..........................] - ETA: 19s - loss: 0.0784"
     ]
    },
    {
     "ename": "KeyboardInterrupt",
     "evalue": "",
     "output_type": "error",
     "traceback": [
      "\u001b[0;31m---------------------------------------------------------------------------\u001b[0m",
      "\u001b[0;31mKeyboardInterrupt\u001b[0m                         Traceback (most recent call last)",
      "\u001b[0;32m<ipython-input-42-22320cad526d>\u001b[0m in \u001b[0;36m<module>\u001b[0;34m()\u001b[0m\n\u001b[1;32m      9\u001b[0m                 \u001b[0mbatch_size\u001b[0m\u001b[0;34m=\u001b[0m\u001b[0;36m10\u001b[0m\u001b[0;34m,\u001b[0m\u001b[0;34m\u001b[0m\u001b[0;34m\u001b[0m\u001b[0m\n\u001b[1;32m     10\u001b[0m                 \u001b[0mvalidation_split\u001b[0m\u001b[0;34m=\u001b[0m\u001b[0;36m0.05\u001b[0m\u001b[0;34m,\u001b[0m\u001b[0;34m\u001b[0m\u001b[0;34m\u001b[0m\u001b[0m\n\u001b[0;32m---> 11\u001b[0;31m                 \u001b[0mverbose\u001b[0m\u001b[0;34m=\u001b[0m\u001b[0;36m1\u001b[0m\u001b[0;34m\u001b[0m\u001b[0;34m\u001b[0m\u001b[0m\n\u001b[0m\u001b[1;32m     12\u001b[0m             )\n",
      "\u001b[0;32m~/anaconda3/envs/shinnu/lib/python3.6/site-packages/keras/engine/training.py\u001b[0m in \u001b[0;36mfit\u001b[0;34m(self, x, y, batch_size, epochs, verbose, callbacks, validation_split, validation_data, shuffle, class_weight, sample_weight, initial_epoch, steps_per_epoch, validation_steps, **kwargs)\u001b[0m\n\u001b[1;32m   1037\u001b[0m                                         \u001b[0minitial_epoch\u001b[0m\u001b[0;34m=\u001b[0m\u001b[0minitial_epoch\u001b[0m\u001b[0;34m,\u001b[0m\u001b[0;34m\u001b[0m\u001b[0;34m\u001b[0m\u001b[0m\n\u001b[1;32m   1038\u001b[0m                                         \u001b[0msteps_per_epoch\u001b[0m\u001b[0;34m=\u001b[0m\u001b[0msteps_per_epoch\u001b[0m\u001b[0;34m,\u001b[0m\u001b[0;34m\u001b[0m\u001b[0;34m\u001b[0m\u001b[0m\n\u001b[0;32m-> 1039\u001b[0;31m                                         validation_steps=validation_steps)\n\u001b[0m\u001b[1;32m   1040\u001b[0m \u001b[0;34m\u001b[0m\u001b[0m\n\u001b[1;32m   1041\u001b[0m     def evaluate(self, x=None, y=None,\n",
      "\u001b[0;32m~/anaconda3/envs/shinnu/lib/python3.6/site-packages/keras/engine/training_arrays.py\u001b[0m in \u001b[0;36mfit_loop\u001b[0;34m(model, f, ins, out_labels, batch_size, epochs, verbose, callbacks, val_f, val_ins, shuffle, callback_metrics, initial_epoch, steps_per_epoch, validation_steps)\u001b[0m\n\u001b[1;32m    197\u001b[0m                     \u001b[0mins_batch\u001b[0m\u001b[0;34m[\u001b[0m\u001b[0mi\u001b[0m\u001b[0;34m]\u001b[0m \u001b[0;34m=\u001b[0m \u001b[0mins_batch\u001b[0m\u001b[0;34m[\u001b[0m\u001b[0mi\u001b[0m\u001b[0;34m]\u001b[0m\u001b[0;34m.\u001b[0m\u001b[0mtoarray\u001b[0m\u001b[0;34m(\u001b[0m\u001b[0;34m)\u001b[0m\u001b[0;34m\u001b[0m\u001b[0;34m\u001b[0m\u001b[0m\n\u001b[1;32m    198\u001b[0m \u001b[0;34m\u001b[0m\u001b[0m\n\u001b[0;32m--> 199\u001b[0;31m                 \u001b[0mouts\u001b[0m \u001b[0;34m=\u001b[0m \u001b[0mf\u001b[0m\u001b[0;34m(\u001b[0m\u001b[0mins_batch\u001b[0m\u001b[0;34m)\u001b[0m\u001b[0;34m\u001b[0m\u001b[0;34m\u001b[0m\u001b[0m\n\u001b[0m\u001b[1;32m    200\u001b[0m                 \u001b[0mouts\u001b[0m \u001b[0;34m=\u001b[0m \u001b[0mto_list\u001b[0m\u001b[0;34m(\u001b[0m\u001b[0mouts\u001b[0m\u001b[0;34m)\u001b[0m\u001b[0;34m\u001b[0m\u001b[0;34m\u001b[0m\u001b[0m\n\u001b[1;32m    201\u001b[0m                 \u001b[0;32mfor\u001b[0m \u001b[0ml\u001b[0m\u001b[0;34m,\u001b[0m \u001b[0mo\u001b[0m \u001b[0;32min\u001b[0m \u001b[0mzip\u001b[0m\u001b[0;34m(\u001b[0m\u001b[0mout_labels\u001b[0m\u001b[0;34m,\u001b[0m \u001b[0mouts\u001b[0m\u001b[0;34m)\u001b[0m\u001b[0;34m:\u001b[0m\u001b[0;34m\u001b[0m\u001b[0;34m\u001b[0m\u001b[0m\n",
      "\u001b[0;32m~/anaconda3/envs/shinnu/lib/python3.6/site-packages/keras/backend/tensorflow_backend.py\u001b[0m in \u001b[0;36m__call__\u001b[0;34m(self, inputs)\u001b[0m\n\u001b[1;32m   2719\u001b[0m                     \u001b[0;34m'In order to feed symbolic tensors to a Keras model '\u001b[0m\u001b[0;34m\u001b[0m\u001b[0;34m\u001b[0m\u001b[0m\n\u001b[1;32m   2720\u001b[0m                     'in TensorFlow, you need tensorflow 1.8 or higher.')\n\u001b[0;32m-> 2721\u001b[0;31m             \u001b[0;32mreturn\u001b[0m \u001b[0mself\u001b[0m\u001b[0;34m.\u001b[0m\u001b[0m_legacy_call\u001b[0m\u001b[0;34m(\u001b[0m\u001b[0minputs\u001b[0m\u001b[0;34m)\u001b[0m\u001b[0;34m\u001b[0m\u001b[0;34m\u001b[0m\u001b[0m\n\u001b[0m\u001b[1;32m   2722\u001b[0m \u001b[0;34m\u001b[0m\u001b[0m\n\u001b[1;32m   2723\u001b[0m \u001b[0;34m\u001b[0m\u001b[0m\n",
      "\u001b[0;32m~/anaconda3/envs/shinnu/lib/python3.6/site-packages/keras/backend/tensorflow_backend.py\u001b[0m in \u001b[0;36m_legacy_call\u001b[0;34m(self, inputs)\u001b[0m\n\u001b[1;32m   2691\u001b[0m         \u001b[0msession\u001b[0m \u001b[0;34m=\u001b[0m \u001b[0mget_session\u001b[0m\u001b[0;34m(\u001b[0m\u001b[0;34m)\u001b[0m\u001b[0;34m\u001b[0m\u001b[0;34m\u001b[0m\u001b[0m\n\u001b[1;32m   2692\u001b[0m         updated = session.run(fetches=fetches, feed_dict=feed_dict,\n\u001b[0;32m-> 2693\u001b[0;31m                               **self.session_kwargs)\n\u001b[0m\u001b[1;32m   2694\u001b[0m         \u001b[0;32mreturn\u001b[0m \u001b[0mupdated\u001b[0m\u001b[0;34m[\u001b[0m\u001b[0;34m:\u001b[0m\u001b[0mlen\u001b[0m\u001b[0;34m(\u001b[0m\u001b[0mself\u001b[0m\u001b[0;34m.\u001b[0m\u001b[0moutputs\u001b[0m\u001b[0;34m)\u001b[0m\u001b[0;34m]\u001b[0m\u001b[0;34m\u001b[0m\u001b[0;34m\u001b[0m\u001b[0m\n\u001b[1;32m   2695\u001b[0m \u001b[0;34m\u001b[0m\u001b[0m\n",
      "\u001b[0;32m~/anaconda3/envs/shinnu/lib/python3.6/site-packages/tensorflow/python/client/session.py\u001b[0m in \u001b[0;36mrun\u001b[0;34m(self, fetches, feed_dict, options, run_metadata)\u001b[0m\n\u001b[1;32m    893\u001b[0m     \u001b[0;32mtry\u001b[0m\u001b[0;34m:\u001b[0m\u001b[0;34m\u001b[0m\u001b[0;34m\u001b[0m\u001b[0m\n\u001b[1;32m    894\u001b[0m       result = self._run(None, fetches, feed_dict, options_ptr,\n\u001b[0;32m--> 895\u001b[0;31m                          run_metadata_ptr)\n\u001b[0m\u001b[1;32m    896\u001b[0m       \u001b[0;32mif\u001b[0m \u001b[0mrun_metadata\u001b[0m\u001b[0;34m:\u001b[0m\u001b[0;34m\u001b[0m\u001b[0;34m\u001b[0m\u001b[0m\n\u001b[1;32m    897\u001b[0m         \u001b[0mproto_data\u001b[0m \u001b[0;34m=\u001b[0m \u001b[0mtf_session\u001b[0m\u001b[0;34m.\u001b[0m\u001b[0mTF_GetBuffer\u001b[0m\u001b[0;34m(\u001b[0m\u001b[0mrun_metadata_ptr\u001b[0m\u001b[0;34m)\u001b[0m\u001b[0;34m\u001b[0m\u001b[0;34m\u001b[0m\u001b[0m\n",
      "\u001b[0;32m~/anaconda3/envs/shinnu/lib/python3.6/site-packages/tensorflow/python/client/session.py\u001b[0m in \u001b[0;36m_run\u001b[0;34m(self, handle, fetches, feed_dict, options, run_metadata)\u001b[0m\n\u001b[1;32m   1126\u001b[0m     \u001b[0;32mif\u001b[0m \u001b[0mfinal_fetches\u001b[0m \u001b[0;32mor\u001b[0m \u001b[0mfinal_targets\u001b[0m \u001b[0;32mor\u001b[0m \u001b[0;34m(\u001b[0m\u001b[0mhandle\u001b[0m \u001b[0;32mand\u001b[0m \u001b[0mfeed_dict_tensor\u001b[0m\u001b[0;34m)\u001b[0m\u001b[0;34m:\u001b[0m\u001b[0;34m\u001b[0m\u001b[0;34m\u001b[0m\u001b[0m\n\u001b[1;32m   1127\u001b[0m       results = self._do_run(handle, final_targets, final_fetches,\n\u001b[0;32m-> 1128\u001b[0;31m                              feed_dict_tensor, options, run_metadata)\n\u001b[0m\u001b[1;32m   1129\u001b[0m     \u001b[0;32melse\u001b[0m\u001b[0;34m:\u001b[0m\u001b[0;34m\u001b[0m\u001b[0;34m\u001b[0m\u001b[0m\n\u001b[1;32m   1130\u001b[0m       \u001b[0mresults\u001b[0m \u001b[0;34m=\u001b[0m \u001b[0;34m[\u001b[0m\u001b[0;34m]\u001b[0m\u001b[0;34m\u001b[0m\u001b[0;34m\u001b[0m\u001b[0m\n",
      "\u001b[0;32m~/anaconda3/envs/shinnu/lib/python3.6/site-packages/tensorflow/python/client/session.py\u001b[0m in \u001b[0;36m_do_run\u001b[0;34m(self, handle, target_list, fetch_list, feed_dict, options, run_metadata)\u001b[0m\n\u001b[1;32m   1342\u001b[0m     \u001b[0;32mif\u001b[0m \u001b[0mhandle\u001b[0m \u001b[0;32mis\u001b[0m \u001b[0;32mNone\u001b[0m\u001b[0;34m:\u001b[0m\u001b[0;34m\u001b[0m\u001b[0;34m\u001b[0m\u001b[0m\n\u001b[1;32m   1343\u001b[0m       return self._do_call(_run_fn, self._session, feeds, fetches, targets,\n\u001b[0;32m-> 1344\u001b[0;31m                            options, run_metadata)\n\u001b[0m\u001b[1;32m   1345\u001b[0m     \u001b[0;32melse\u001b[0m\u001b[0;34m:\u001b[0m\u001b[0;34m\u001b[0m\u001b[0;34m\u001b[0m\u001b[0m\n\u001b[1;32m   1346\u001b[0m       \u001b[0;32mreturn\u001b[0m \u001b[0mself\u001b[0m\u001b[0;34m.\u001b[0m\u001b[0m_do_call\u001b[0m\u001b[0;34m(\u001b[0m\u001b[0m_prun_fn\u001b[0m\u001b[0;34m,\u001b[0m \u001b[0mself\u001b[0m\u001b[0;34m.\u001b[0m\u001b[0m_session\u001b[0m\u001b[0;34m,\u001b[0m \u001b[0mhandle\u001b[0m\u001b[0;34m,\u001b[0m \u001b[0mfeeds\u001b[0m\u001b[0;34m,\u001b[0m \u001b[0mfetches\u001b[0m\u001b[0;34m)\u001b[0m\u001b[0;34m\u001b[0m\u001b[0;34m\u001b[0m\u001b[0m\n",
      "\u001b[0;32m~/anaconda3/envs/shinnu/lib/python3.6/site-packages/tensorflow/python/client/session.py\u001b[0m in \u001b[0;36m_do_call\u001b[0;34m(self, fn, *args)\u001b[0m\n\u001b[1;32m   1348\u001b[0m   \u001b[0;32mdef\u001b[0m \u001b[0m_do_call\u001b[0m\u001b[0;34m(\u001b[0m\u001b[0mself\u001b[0m\u001b[0;34m,\u001b[0m \u001b[0mfn\u001b[0m\u001b[0;34m,\u001b[0m \u001b[0;34m*\u001b[0m\u001b[0margs\u001b[0m\u001b[0;34m)\u001b[0m\u001b[0;34m:\u001b[0m\u001b[0;34m\u001b[0m\u001b[0;34m\u001b[0m\u001b[0m\n\u001b[1;32m   1349\u001b[0m     \u001b[0;32mtry\u001b[0m\u001b[0;34m:\u001b[0m\u001b[0;34m\u001b[0m\u001b[0;34m\u001b[0m\u001b[0m\n\u001b[0;32m-> 1350\u001b[0;31m       \u001b[0;32mreturn\u001b[0m \u001b[0mfn\u001b[0m\u001b[0;34m(\u001b[0m\u001b[0;34m*\u001b[0m\u001b[0margs\u001b[0m\u001b[0;34m)\u001b[0m\u001b[0;34m\u001b[0m\u001b[0;34m\u001b[0m\u001b[0m\n\u001b[0m\u001b[1;32m   1351\u001b[0m     \u001b[0;32mexcept\u001b[0m \u001b[0merrors\u001b[0m\u001b[0;34m.\u001b[0m\u001b[0mOpError\u001b[0m \u001b[0;32mas\u001b[0m \u001b[0me\u001b[0m\u001b[0;34m:\u001b[0m\u001b[0;34m\u001b[0m\u001b[0;34m\u001b[0m\u001b[0m\n\u001b[1;32m   1352\u001b[0m       \u001b[0mmessage\u001b[0m \u001b[0;34m=\u001b[0m \u001b[0mcompat\u001b[0m\u001b[0;34m.\u001b[0m\u001b[0mas_text\u001b[0m\u001b[0;34m(\u001b[0m\u001b[0me\u001b[0m\u001b[0;34m.\u001b[0m\u001b[0mmessage\u001b[0m\u001b[0;34m)\u001b[0m\u001b[0;34m\u001b[0m\u001b[0;34m\u001b[0m\u001b[0m\n",
      "\u001b[0;32m~/anaconda3/envs/shinnu/lib/python3.6/site-packages/tensorflow/python/client/session.py\u001b[0m in \u001b[0;36m_run_fn\u001b[0;34m(session, feed_dict, fetch_list, target_list, options, run_metadata)\u001b[0m\n\u001b[1;32m   1327\u001b[0m           return tf_session.TF_Run(session, options,\n\u001b[1;32m   1328\u001b[0m                                    \u001b[0mfeed_dict\u001b[0m\u001b[0;34m,\u001b[0m \u001b[0mfetch_list\u001b[0m\u001b[0;34m,\u001b[0m \u001b[0mtarget_list\u001b[0m\u001b[0;34m,\u001b[0m\u001b[0;34m\u001b[0m\u001b[0;34m\u001b[0m\u001b[0m\n\u001b[0;32m-> 1329\u001b[0;31m                                    status, run_metadata)\n\u001b[0m\u001b[1;32m   1330\u001b[0m \u001b[0;34m\u001b[0m\u001b[0m\n\u001b[1;32m   1331\u001b[0m     \u001b[0;32mdef\u001b[0m \u001b[0m_prun_fn\u001b[0m\u001b[0;34m(\u001b[0m\u001b[0msession\u001b[0m\u001b[0;34m,\u001b[0m \u001b[0mhandle\u001b[0m\u001b[0;34m,\u001b[0m \u001b[0mfeed_dict\u001b[0m\u001b[0;34m,\u001b[0m \u001b[0mfetch_list\u001b[0m\u001b[0;34m)\u001b[0m\u001b[0;34m:\u001b[0m\u001b[0;34m\u001b[0m\u001b[0;34m\u001b[0m\u001b[0m\n",
      "\u001b[0;31mKeyboardInterrupt\u001b[0m: "
     ]
    }
   ],
   "source": [
    "for i in range(300):\n",
    "    bad_answers=[y_train[random.randint(0,len(y_train)-1)] for i in range(len(y_train)) ]\n",
    "    bad_answers=np.asarray(bad_answers)\n",
    "    print(i)\n",
    "    training_model.fit(\n",
    "                [questions, good_answers, bad_answers],\n",
    "                Y,\n",
    "                epochs=1,\n",
    "                batch_size=10,\n",
    "                validation_split=0.05,\n",
    "                verbose=1\n",
    "            )\n"
   ]
  },
  {
   "cell_type": "code",
   "execution_count": 43,
   "metadata": {},
   "outputs": [
    {
     "name": "stdout",
     "output_type": "stream",
     "text": [
      "################################ 0\n",
      "1.0\n",
      "################################ 1\n",
      "1.2\n",
      "################################ 2\n",
      "1.2588235294117647\n",
      "################################ 3\n",
      "1.330252100840336\n",
      "################################ 4\n",
      "2.330252100840336\n",
      "################################ 5\n",
      "3.330252100840336\n",
      "################################ 6\n",
      "3.4135854341736693\n",
      "################################ 7\n",
      "3.4520469726352077\n",
      "################################ 8\n",
      "4.452046972635207\n",
      "################################ 9\n",
      "5.452046972635207\n",
      "################################ 10\n",
      "5.552046972635207\n",
      "################################ 11\n",
      "6.552046972635207\n",
      "################################ 12\n",
      "7.552046972635207\n",
      "################################ 13\n",
      "7.573323568379887\n",
      "################################ 14\n",
      "7.684434679490998\n",
      "################################ 15\n",
      "7.7511013461576646\n",
      "################################ 16\n",
      "8.751101346157665\n",
      "################################ 17\n",
      "9.751101346157665\n",
      "################################ 18\n",
      "9.893958489014807\n",
      "################################ 19\n",
      "9.918958489014807\n",
      "################################ 20\n",
      "9.943348732917245\n",
      "################################ 21\n",
      "10.943348732917245\n",
      "################################ 22\n",
      "11.943348732917245\n",
      "################################ 23\n",
      "12.943348732917245\n",
      "################################ 24\n",
      "13.034257823826337\n",
      "################################ 25\n",
      "14.034257823826337\n",
      "################################ 26\n",
      "14.117591157159671\n",
      "################################ 27\n",
      "14.617591157159671\n",
      "################################ 28\n",
      "14.71759115715967\n",
      "################################ 29\n",
      "14.738867752904351\n",
      "################################ 30\n",
      "15.738867752904351\n",
      "################################ 31\n",
      "16.072201086237683\n",
      "################################ 32\n",
      "16.124832665185053\n",
      "################################ 33\n",
      "16.374832665185053\n",
      "################################ 34\n",
      "17.374832665185053\n",
      "################################ 35\n",
      "17.708165998518385\n",
      "################################ 36\n",
      "18.708165998518385\n",
      "################################ 37\n",
      "18.808165998518387\n",
      "################################ 38\n",
      "18.841499331851722\n",
      "################################ 39\n",
      "19.841499331851722\n",
      "################################ 40\n",
      "19.874832665185057\n",
      "################################ 41\n",
      "20.124832665185057\n",
      "################################ 42\n",
      "20.45816599851839\n",
      "################################ 43\n",
      "21.45816599851839\n",
      "################################ 44\n",
      "22.45816599851839\n",
      "################################ 45\n",
      "22.624832665185057\n",
      "################################ 46\n",
      "22.824832665185056\n",
      "################################ 47\n",
      "23.824832665185056\n",
      "acc 0.49635068052468867\n"
     ]
    }
   ],
   "source": [
    "acc=0\n",
    "for i in range(len(X_test)):\n",
    "    # pad the data and get it in desired format\n",
    "    print(\"################################\",i)\n",
    "    answers=y_test\n",
    "    question=[X_test[i]]*len(X_test)\n",
    "#     question=[X_test[i]]*len(X_test)\n",
    "    # get the similarity score\n",
    "    sims = prediction_model.predict([question, answers])\n",
    "    sims=list(sims)\n",
    "\n",
    "    a=sorted(np.unique(sims),reverse=True)\n",
    "    element=sims[i]\n",
    "    acc+=1/(a.index(element)+1)\n",
    "\n",
    "print(\"MRR\",acc/len(X_test))    \n",
    "#     print(i,len(sims))\n",
    "    \n"
   ]
  },
  {
   "cell_type": "code",
   "execution_count": null,
   "metadata": {},
   "outputs": [],
   "source": [
    "from keras.models import load_model\n",
    "\n",
    "prediction_model.save('Multi hop interactive attention network model-b.h5')  # creates a HDF5 file 'my_model.h5'\n",
    "# del model  # deletes the existing model\n",
    "\n",
    "# returns a compiled model\n",
    "# identical to the previous one\n",
    "# model = load_model('my_model.h5')"
   ]
  },
  {
   "cell_type": "code",
   "execution_count": null,
   "metadata": {},
   "outputs": [],
   "source": []
  }
 ],
 "metadata": {
  "kernelspec": {
   "display_name": "shinnu",
   "language": "python",
   "name": "shinnu"
  },
  "language_info": {
   "codemirror_mode": {
    "name": "ipython",
    "version": 3
   },
   "file_extension": ".py",
   "mimetype": "text/x-python",
   "name": "python",
   "nbconvert_exporter": "python",
   "pygments_lexer": "ipython3",
   "version": "3.6.8"
  }
 },
 "nbformat": 4,
 "nbformat_minor": 2
}
