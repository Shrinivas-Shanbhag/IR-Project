{
 "cells": [
  {
   "cell_type": "code",
   "execution_count": 1,
   "metadata": {},
   "outputs": [],
   "source": [
    "from nltk.stem import PorterStemmer, WordNetLemmatizer\n",
    "from nltk.tokenize import sent_tokenize, word_tokenize\n",
    "from __future__ import print_function\n",
    "import torch\n",
    "from torch.autograd import Variable\n",
    "import random\n",
    "from sklearn.model_selection import train_test_split"
   ]
  },
  {
   "cell_type": "code",
   "execution_count": 2,
   "metadata": {},
   "outputs": [
    {
     "name": "stderr",
     "output_type": "stream",
     "text": [
      "Using TensorFlow backend.\n"
     ]
    }
   ],
   "source": [
    "from keras import backend as K\n",
    "from keras.layers import Embedding,Dense\n",
    "from keras.layers import LSTM, Input, merge, Lambda\n",
    "from keras.layers.wrappers import Bidirectional\n",
    "from keras.layers.convolutional import Convolution1D\n",
    "from keras.models import Model\n",
    "import numpy as np"
   ]
  },
  {
   "cell_type": "code",
   "execution_count": 3,
   "metadata": {},
   "outputs": [],
   "source": [
    "file = \"glove.6B.100d.txt\"\n",
    "import numpy as np\n",
    "def loadGloveModel(gloveFile):\n",
    "    print (\"Loading Glove Model\")\n",
    "    \n",
    "    with open(gloveFile, encoding=\"utf8\" ) as f:\n",
    "       content = f.readlines()\n",
    "    model = {}\n",
    "    for line in content:\n",
    "        splitLine = line.split()\n",
    "        word = splitLine[0]\n",
    "        embedding = np.array([float(val) for val in splitLine[1:]])\n",
    "        model[word] = embedding\n",
    "    print (\"Done.\",len(model),\" words loaded!\")\n",
    "    return model\n"
   ]
  },
  {
   "cell_type": "code",
   "execution_count": 4,
   "metadata": {},
   "outputs": [
    {
     "name": "stdout",
     "output_type": "stream",
     "text": [
      "Loading Glove Model\n",
      "Done. 400001  words loaded!\n"
     ]
    }
   ],
   "source": [
    "model= loadGloveModel(file)   \n",
    "stemmer = PorterStemmer()\n",
    "lemmatiser= WordNetLemmatizer()\n"
   ]
  },
  {
   "cell_type": "code",
   "execution_count": 5,
   "metadata": {},
   "outputs": [],
   "source": [
    "import string\n",
    "questions=[]\n",
    "answers=[]\n",
    "answer=[]\n",
    "length=30\n",
    "sentence_length=length\n",
    "with open(\"sample1.txt\",\"r\") as f:\n",
    "    choice=0\n",
    "    for line in f:\n",
    "        line=line.lower()\n",
    "        sentence=line.translate(string.punctuation)\n",
    "        sentence=line[2:].split()\n",
    "        word_vec=[]\n",
    "        for word in sentence:\n",
    "            if word in model:\n",
    "                word_vec.append(model[word])\n",
    "            else:\n",
    "                stemmed_word=stemmer.stem(word)\n",
    "                lemmatised_word=lemmatiser.lemmatize(word)\n",
    "                if stemmed_word in model:\n",
    "                    word_vec.append(model[stemmed_word])\n",
    "                elif lemmatised_word in model:\n",
    "                    word_vec.append(model[lemmatised_word])        \n",
    "        if choice==0:\n",
    "            choice=1\n",
    "            if len(word_vec)<=sentence_length:\n",
    "                for vec_len in range(length-len(word_vec)):\n",
    "                    word_vec.append(model[\"0\"])\n",
    "            questions.append(word_vec[:length])\n",
    "            \n",
    "        else:\n",
    "            choice=0\n",
    "            if len(word_vec)<=sentence_length:\n",
    "                for vec_len in range(length-len(word_vec)):\n",
    "                    word_vec.append(model[\"0\"])\n",
    "                answers.append(word_vec)\n",
    "                answer.append(line)\n",
    "            else:\n",
    "                del questions[-1]\n",
    "                \n",
    "        "
   ]
  },
  {
   "cell_type": "code",
   "execution_count": 6,
   "metadata": {},
   "outputs": [],
   "source": [
    "input_vec_len=100\n",
    "questions=np.asarray(questions)\n",
    "answers=np.asarray(answers)"
   ]
  },
  {
   "cell_type": "code",
   "execution_count": 7,
   "metadata": {},
   "outputs": [],
   "source": [
    "from sklearn.utils import shuffle"
   ]
  },
  {
   "cell_type": "code",
   "execution_count": 8,
   "metadata": {},
   "outputs": [],
   "source": [
    "questions,answers=shuffle(questions,answers)"
   ]
  },
  {
   "cell_type": "code",
   "execution_count": 9,
   "metadata": {},
   "outputs": [],
   "source": [
    "X_train, X_test, y_train, y_test = train_test_split(questions, answers, test_size=0.05, random_state=42)"
   ]
  },
  {
   "cell_type": "code",
   "execution_count": 10,
   "metadata": {},
   "outputs": [],
   "source": [
    "bad_y_train=[y_train[random.randint(0,len(y_train)-1)] for i in range(len(y_train)) ]"
   ]
  },
  {
   "cell_type": "code",
   "execution_count": 11,
   "metadata": {},
   "outputs": [],
   "source": [
    "bad_y_train=np.asarray(bad_y_train)"
   ]
  },
  {
   "cell_type": "code",
   "execution_count": 12,
   "metadata": {},
   "outputs": [
    {
     "data": {
      "text/plain": [
       "((906, 30, 100), (48, 30, 100))"
      ]
     },
     "execution_count": 12,
     "metadata": {},
     "output_type": "execute_result"
    }
   ],
   "source": [
    "bad_y_train.shape,y_test.shape"
   ]
  },
  {
   "cell_type": "code",
   "execution_count": 13,
   "metadata": {},
   "outputs": [],
   "source": [
    "import keras\n",
    "answer=[]"
   ]
  },
  {
   "cell_type": "code",
   "execution_count": 14,
   "metadata": {},
   "outputs": [],
   "source": [
    "questions, good_answers, bad_answers=X_train,y_train,bad_y_train\n",
    "Y = np.zeros(shape=(questions.shape[0],))"
   ]
  },
  {
   "cell_type": "code",
   "execution_count": 15,
   "metadata": {},
   "outputs": [
    {
     "data": {
      "text/plain": [
       "(906, 30, 100)"
      ]
     },
     "execution_count": 15,
     "metadata": {},
     "output_type": "execute_result"
    }
   ],
   "source": [
    "bad_answers.shape"
   ]
  },
  {
   "cell_type": "code",
   "execution_count": 16,
   "metadata": {},
   "outputs": [],
   "source": [
    "def cosine_distance(vests):\n",
    "    x, y = vests\n",
    "    x = K.l2_normalize(x, axis=-1)\n",
    "    y = K.l2_normalize(y, axis=-1)\n",
    "    return -K.mean(x * y, axis=-1, keepdims=True)\n",
    "\n",
    "def cos_dist_output_shape(shapes):\n",
    "    shape1, shape2 = shapes\n",
    "    return (shape1[0],1)\n",
    "\n",
    "def loss_shape(shapes):\n",
    "    shape1, shape2 = shapes\n",
    "    return  0"
   ]
  },
  {
   "cell_type": "code",
   "execution_count": 17,
   "metadata": {},
   "outputs": [
    {
     "name": "stdout",
     "output_type": "stream",
     "text": [
      "hi\n"
     ]
    }
   ],
   "source": [
    "import tensorflow as tf\n",
    "from keras import backend as k\n",
    "from keras.layers import Embedding,Dense,Flatten,Activation,RepeatVector,Permute,multiply,Add,Concatenate\n",
    "import keras\n",
    "\n",
    "margin = 0.2\n",
    "enc_timesteps = 60\n",
    "dec_timesteps = 60\n",
    "hidden_dim = 15\n",
    "epoch=100\n",
    "maxlen=60\n",
    "# initialize the question and answer shapes and datatype\n",
    "question = Input(shape=(length,100))\n",
    "answer = Input(shape=(length,100))\n",
    "answer_good = Input(shape=(length,100))\n",
    "answer_bad = Input(shape=(length,100))\n",
    "\n",
    "\n",
    "q_bilstm=Bidirectional(LSTM(activation='tanh', units=hidden_dim, return_sequences=True))(question)\n",
    "q_atten = Dense(1, activation='tanh')(q_bilstm)\n",
    "q_atten = Flatten()(q_atten)\n",
    "q_atten = Activation('softmax')(q_atten)\n",
    "q_atten = RepeatVector(length)(q_atten)\n",
    "q_atten = Permute([2, 1])(q_atten)\n",
    "q_sent_representation = Lambda(lambda xin: K.sum(xin[0]*xin[1], axis=-2))([q_bilstm, q_atten])\n",
    "\n",
    "question_enc_1 = q_sent_representation\n",
    "\n",
    "\n",
    "a_bilstm=Bidirectional(LSTM(activation='tanh', units=hidden_dim, return_sequences=True))(answer)\n",
    "a_bilstm= Add()([a_bilstm,q_bilstm])\n",
    "a_atten = Dense(1, activation='tanh')(a_bilstm)\n",
    "a_atten = Flatten()(a_atten)\n",
    "a_atten = Activation('softmax')(a_atten)\n",
    "a_atten = RepeatVector(length)(a_atten)\n",
    "a_atten = Permute([2, 1])(a_atten)\n",
    "# a_sent_representation = multiply([a_bilstm, a_atten])\n",
    "a_sent_representation = Lambda(lambda xin: K.sum(xin[0]*xin[1], axis=-2))([a_bilstm, a_atten])\n",
    "\n",
    "\n",
    "answer_enc_1 = a_sent_representation\n",
    "\n",
    "distance = Lambda(cosine_distance, output_shape=cos_dist_output_shape)([question_enc_1, answer_enc_1])\n",
    "\n",
    "lstm_model = Model(inputs=[question, answer], outputs=[distance])\n",
    "good_similarity = lstm_model([question, answer_good])\n",
    "\n",
    "bad_similarity = lstm_model([question, answer_bad])\n",
    "\n",
    "loss=Lambda(lambda x: K.relu(margin - x[0] + x[1]),output_shape=lambda x: x[0])([good_similarity, bad_similarity])\n",
    "\n",
    "\n",
    "# return training and prediction model\n",
    "training_model = Model(inputs=[question, answer_good, answer_bad], outputs=loss, name='training_model')\n",
    "training_model.compile(loss=lambda y_true, y_pred: y_pred, optimizer=\"rmsprop\")\n",
    "prediction_model = Model(inputs=[question, answer_good], outputs=good_similarity, name='prediction_model')\n",
    "prediction_model.compile(loss=lambda y_true, y_pred: y_pred, optimizer=\"rmsprop\")\n",
    "\n"
   ]
  },
  {
   "cell_type": "code",
   "execution_count": 1,
   "metadata": {},
   "outputs": [
    {
     "ename": "NameError",
     "evalue": "name 'y_train' is not defined",
     "output_type": "error",
     "traceback": [
      "\u001b[0;31m---------------------------------------------------------------------------\u001b[0m",
      "\u001b[0;31mNameError\u001b[0m                                 Traceback (most recent call last)",
      "\u001b[0;32m<ipython-input-1-e7205c759994>\u001b[0m in \u001b[0;36m<module>\u001b[0;34m()\u001b[0m\n\u001b[1;32m      1\u001b[0m \u001b[0;32mfor\u001b[0m \u001b[0mi\u001b[0m \u001b[0;32min\u001b[0m \u001b[0mrange\u001b[0m\u001b[0;34m(\u001b[0m\u001b[0;36m300\u001b[0m\u001b[0;34m)\u001b[0m\u001b[0;34m:\u001b[0m\u001b[0;34m\u001b[0m\u001b[0;34m\u001b[0m\u001b[0m\n\u001b[0;32m----> 2\u001b[0;31m     \u001b[0mbad_answers\u001b[0m\u001b[0;34m=\u001b[0m\u001b[0;34m[\u001b[0m\u001b[0my_train\u001b[0m\u001b[0;34m[\u001b[0m\u001b[0mrandom\u001b[0m\u001b[0;34m.\u001b[0m\u001b[0mrandint\u001b[0m\u001b[0;34m(\u001b[0m\u001b[0;36m0\u001b[0m\u001b[0;34m,\u001b[0m\u001b[0mlen\u001b[0m\u001b[0;34m(\u001b[0m\u001b[0my_train\u001b[0m\u001b[0;34m)\u001b[0m\u001b[0;34m-\u001b[0m\u001b[0;36m1\u001b[0m\u001b[0;34m)\u001b[0m\u001b[0;34m]\u001b[0m \u001b[0;32mfor\u001b[0m \u001b[0mi\u001b[0m \u001b[0;32min\u001b[0m \u001b[0mrange\u001b[0m\u001b[0;34m(\u001b[0m\u001b[0mlen\u001b[0m\u001b[0;34m(\u001b[0m\u001b[0my_train\u001b[0m\u001b[0;34m)\u001b[0m\u001b[0;34m)\u001b[0m \u001b[0;34m]\u001b[0m\u001b[0;34m\u001b[0m\u001b[0;34m\u001b[0m\u001b[0m\n\u001b[0m\u001b[1;32m      3\u001b[0m     \u001b[0mbad_answers\u001b[0m\u001b[0;34m=\u001b[0m\u001b[0mnp\u001b[0m\u001b[0;34m.\u001b[0m\u001b[0masarray\u001b[0m\u001b[0;34m(\u001b[0m\u001b[0mbad_answers\u001b[0m\u001b[0;34m)\u001b[0m\u001b[0;34m\u001b[0m\u001b[0;34m\u001b[0m\u001b[0m\n\u001b[1;32m      4\u001b[0m     \u001b[0mprint\u001b[0m\u001b[0;34m(\u001b[0m\u001b[0mi\u001b[0m\u001b[0;34m)\u001b[0m\u001b[0;34m\u001b[0m\u001b[0;34m\u001b[0m\u001b[0m\n\u001b[1;32m      5\u001b[0m     training_model.fit(\n",
      "\u001b[0;31mNameError\u001b[0m: name 'y_train' is not defined"
     ]
    }
   ],
   "source": [
    "for i in range(300):\n",
    "    bad_answers=[y_train[random.randint(0,len(y_train)-1)] for i in range(len(y_train)) ]\n",
    "    bad_answers=np.asarray(bad_answers)\n",
    "    print(i)\n",
    "    training_model.fit(\n",
    "                [questions, good_answers, bad_answers],\n",
    "                Y,\n",
    "                epochs=1,\n",
    "                batch_size=20,\n",
    "                validation_split=0.1,\n",
    "                verbose=1\n",
    "            )\n"
   ]
  },
  {
   "cell_type": "code",
   "execution_count": 21,
   "metadata": {},
   "outputs": [
    {
     "name": "stdout",
     "output_type": "stream",
     "text": [
      "################################ 0\n",
      "0.1111111111111111\n",
      "################################ 1\n",
      "0.6111111111111112\n",
      "################################ 2\n",
      "0.7777777777777778\n",
      "################################ 3\n",
      "1.7777777777777777\n",
      "################################ 4\n",
      "2.7777777777777777\n",
      "################################ 5\n",
      "3.111111111111111\n",
      "################################ 6\n",
      "3.1527777777777777\n",
      "################################ 7\n",
      "3.2956349206349205\n",
      "################################ 8\n",
      "3.628968253968254\n",
      "################################ 9\n",
      "3.6522240679217424\n",
      "################################ 10\n",
      "3.7291471448448195\n",
      "################################ 11\n",
      "3.895813811511486\n",
      "################################ 12\n",
      "4.145813811511486\n",
      "################################ 13\n",
      "4.479147144844819\n",
      "################################ 14\n",
      "4.979147144844819\n",
      "################################ 15\n",
      "5.016184181881856\n",
      "################################ 16\n",
      "5.349517515215189\n",
      "################################ 17\n",
      "5.3865545522522265\n",
      "################################ 18\n",
      "5.408776774474449\n",
      "################################ 19\n",
      "6.408776774474449\n",
      "################################ 20\n",
      "6.575443441141116\n",
      "################################ 21\n",
      "6.686554552252226\n",
      "################################ 22\n",
      "7.686554552252226\n",
      "################################ 23\n",
      "7.739186131199594\n",
      "################################ 24\n",
      "8.072519464532927\n",
      "################################ 25\n",
      "9.072519464532927\n",
      "################################ 26\n",
      "9.405852797866261\n",
      "################################ 27\n",
      "9.44585279786626\n",
      "################################ 28\n",
      "9.473630575644039\n",
      "################################ 29\n",
      "9.517108836513604\n",
      "################################ 30\n",
      "10.517108836513604\n",
      "################################ 31\n",
      "11.517108836513604\n",
      "################################ 32\n",
      "12.517108836513604\n",
      "################################ 33\n",
      "12.542108836513604\n",
      "################################ 34\n",
      "12.57782312222789\n",
      "################################ 35\n",
      "12.654746199150967\n",
      "################################ 36\n",
      "13.654746199150967\n",
      "################################ 37\n",
      "13.710301754706522\n",
      "################################ 38\n",
      "13.753780015576087\n",
      "################################ 39\n",
      "14.753780015576087\n",
      "################################ 40\n",
      "14.778170259478525\n",
      "################################ 41\n",
      "15.778170259478525\n",
      "################################ 42\n",
      "15.808473289781556\n",
      "################################ 43\n",
      "16.808473289781556\n",
      "################################ 44\n",
      "17.808473289781556\n",
      "################################ 45\n",
      "18.808473289781556\n",
      "################################ 46\n",
      "19.808473289781556\n",
      "################################ 47\n",
      "19.84418757549584\n",
      "acc 0.4134205744894967\n"
     ]
    }
   ],
   "source": [
    "acc=0\n",
    "for i in range(len(X_test)):\n",
    "    \n",
    "    print(\"################################\",i)\n",
    "    answers=y_test\n",
    "    question=[X_test[i]]*len(X_test)\n",
    "\n",
    "    sims = prediction_model.predict([question, answers])\n",
    "    sims=list(sims)\n",
    "\n",
    "    a=sorted(np.unique(sims),reverse=True)\n",
    "    element=sims[i]\n",
    "    acc+=1/(a.index(element)+1)\n",
    "\n",
    "    print(acc)\n",
    "print(\"acc\",acc/len(X_test))    \n",
    "\n",
    "    \n"
   ]
  },
  {
   "cell_type": "code",
   "execution_count": null,
   "metadata": {},
   "outputs": [],
   "source": [
    "from keras.models import load_model\n",
    "\n",
    "prediction_model.save('Interactive attention network model-a.h5')  # creates a HDF5 file 'my_model.h5'\n",
    "# del model  # deletes the existing model\n",
    "\n",
    "# returns a compiled model\n",
    "# identical to the previous one\n",
    "# model = load_model('my_model.h5')"
   ]
  },
  {
   "cell_type": "code",
   "execution_count": null,
   "metadata": {
    "scrolled": false
   },
   "outputs": [],
   "source": [
    "\n",
    "    \n"
   ]
  }
 ],
 "metadata": {
  "kernelspec": {
   "display_name": "shinnu",
   "language": "python",
   "name": "shinnu"
  },
  "language_info": {
   "codemirror_mode": {
    "name": "ipython",
    "version": 3
   },
   "file_extension": ".py",
   "mimetype": "text/x-python",
   "name": "python",
   "nbconvert_exporter": "python",
   "pygments_lexer": "ipython3",
   "version": "3.6.8"
  }
 },
 "nbformat": 4,
 "nbformat_minor": 2
}
